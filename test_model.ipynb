{
 "cells": [
  {
   "cell_type": "markdown",
   "id": "9474d761",
   "metadata": {},
   "source": [
    "## Setting"
   ]
  },
  {
   "cell_type": "code",
   "execution_count": 10,
   "id": "060b5b2c",
   "metadata": {},
   "outputs": [],
   "source": [
    "import import_ipynb\n",
    "import os, timm, cv2 \n",
    "import numpy as np\n",
    "from glob import glob\n",
    "from tqdm import tqdm\n",
    "import torch\n",
    "import torch.nn as nn\n",
    "import torch.nn.functional as F\n",
    "from torch.utils.data import Dataset, DataLoader\n",
    "from torchvision import transforms\n",
    "import matplotlib.pyplot as plt\n",
    "import pandas as pd\n",
    "import seaborn as sns\n",
    "from sklearn.metrics import confusion_matrix, accuracy_score\n",
    "from itertools import combinations\n",
    "from model_load import *\n",
    "from dataloader import *\n",
    "import warnings\n",
    "warnings.filterwarnings('ignore')"
   ]
  },
  {
   "cell_type": "code",
   "execution_count": 11,
   "id": "04f33c23",
   "metadata": {},
   "outputs": [],
   "source": [
    "class CustomDataset(Dataset):\n",
    "    def __init__(self, path, transforms = None):\n",
    "        \n",
    "        self.path = path\n",
    "        keys = list(set([x.split('/')[-2] for x in self.path]))\n",
    "        keys.sort()\n",
    "        dictkeys = {key:idx for idx, key in enumerate(keys)}\n",
    "        self.label = [dictkeys[i.split('/')[-2]] for i in self.path]       \n",
    "        self.transforms = transforms\n",
    "        \n",
    "    def __getitem__(self, index):\n",
    "        \n",
    "        path = self.path[index]\n",
    "        data = cv2.imread(path, cv2.COLOR_BGR2RGB)\n",
    "        \n",
    "        if self.transforms is not None:\n",
    "            data = self.transforms(data)\n",
    "        \n",
    "        return data, self.label[index]\n",
    "    \n",
    "    def __len__(self):\n",
    "        return len(self.path)"
   ]
  },
  {
   "cell_type": "code",
   "execution_count": 22,
   "id": "1291d43e",
   "metadata": {},
   "outputs": [],
   "source": [
    "def test(model, test_loader, name):\n",
    "    model.eval()\n",
    "    model.cuda()\n",
    "    aa = torch.Tensor()\n",
    "    bb = torch.Tensor()\n",
    "\n",
    "    with torch.no_grad():\n",
    "        for img, ll in test_loader:\n",
    "            img, ll = img.cuda(), ll\n",
    "            if name == 'seresnext101_32x4d':\n",
    "                pred = model(img)[:,:10].cpu()\n",
    "            else:\n",
    "                pred = model(img).cpu()\n",
    "            pred = F.softmax(pred)\n",
    "            aa = torch.cat([aa, pred])\n",
    "            bb = torch.cat([bb, ll])\n",
    "  \n",
    "    return aa.cpu(), bb.cpu()"
   ]
  },
  {
   "cell_type": "code",
   "execution_count": 23,
   "id": "4d39414b",
   "metadata": {},
   "outputs": [],
   "source": [
    "def ensemble(model_name, test_loader):\n",
    "    model_pred = []\n",
    "    label = []\n",
    "    for i in tqdm(model_name):\n",
    "        if i in ['resnet50', 'efficientnet_b0', 'efficientnetv2_rw_s']:\n",
    "            model = model_load(i, pre = False, num=10)\n",
    "            check = torch.load(os.path.join('./parameter', i+'.pth'))['model_state_dict']\n",
    "            model.load_state_dict(check)\n",
    "        elif i in 'seresnext101_32x4d':\n",
    "            model = model_load(i, pre = False, num=192)\n",
    "            model.relu = nn.ReLU(True)\n",
    "            model.fc2 = nn.Linear(192,10)\n",
    "            check = torch.load(os.path.join('./parameter', i+'.pth'))\n",
    "            model.load_state_dict(check)\n",
    "        else:\n",
    "            model = model_load(i, pre = False, num=10)\n",
    "            check = torch.load(os.path.join('./parameter', i+'.pth'))\n",
    "            model.load_state_dict(check)\n",
    "\n",
    "        model_pred.append(test(model, test_loader, i)[0].tolist())\n",
    "        label.append(test(model, test_loader, i)[1].tolist())\n",
    "\n",
    "    pred = torch.Tensor(model_pred)\n",
    "    label = torch.Tensor(label)[0]\n",
    "\n",
    "    pred = pred.sum(axis=0)\n",
    "    final_pred = pred.argmax(dim = 1)\n",
    "\n",
    "    arr = confusion_matrix(final_pred, label)\n",
    "    score = accuracy_score(final_pred, label)\n",
    "    \n",
    "    return arr, score"
   ]
  },
  {
   "cell_type": "markdown",
   "id": "53b63186",
   "metadata": {},
   "source": [
    "## Test"
   ]
  },
  {
   "cell_type": "code",
   "execution_count": 24,
   "id": "565cbaa9",
   "metadata": {},
   "outputs": [],
   "source": [
    "path = glob('/data/deeplearning/test_image/*/*/*')"
   ]
  },
  {
   "cell_type": "code",
   "execution_count": 25,
   "id": "c567ad16",
   "metadata": {},
   "outputs": [],
   "source": [
    "device = torch.device('cuda') if torch.cuda.is_available else torch.device('cpu')"
   ]
  },
  {
   "cell_type": "code",
   "execution_count": 26,
   "id": "3e95a7c9",
   "metadata": {},
   "outputs": [],
   "source": [
    "transform = transforms.Compose([\n",
    "    transforms.ToTensor(),\n",
    "    transforms.Resize([224,224]),\n",
    "    transforms.Normalize((0.5,0.5,0.5),(0.5,0.5,0.5)),\n",
    "])"
   ]
  },
  {
   "cell_type": "code",
   "execution_count": 27,
   "id": "1a923426",
   "metadata": {},
   "outputs": [],
   "source": [
    "dataset = CustomDataset(path, transform)\n",
    "test_loader = DataLoader(dataset, 128, shuffle=False, num_workers=4)"
   ]
  },
  {
   "cell_type": "code",
   "execution_count": 28,
   "id": "5d13ca9b",
   "metadata": {},
   "outputs": [],
   "source": [
    "model_name = ['seresnext101_32x4d','efficientnet_lite2', 'res2net50_26w_8s', 'efficientnetv2_rw_s', 'efficientnet_b0']"
   ]
  },
  {
   "cell_type": "code",
   "execution_count": 29,
   "id": "1e63942f",
   "metadata": {},
   "outputs": [
    {
     "name": "stderr",
     "output_type": "stream",
     "text": [
      "100%|██████████| 5/5 [00:49<00:00,  9.95s/it]\n"
     ]
    }
   ],
   "source": [
    "arr, score = ensemble(model_name, test_loader)"
   ]
  },
  {
   "cell_type": "code",
   "execution_count": 30,
   "id": "22013506",
   "metadata": {},
   "outputs": [],
   "source": [
    "keys = ['airplane', 'automobile', 'bird', 'cat', 'deer', 'dog', 'frog', 'horse', 'ship', 'truck']"
   ]
  },
  {
   "cell_type": "code",
   "execution_count": 31,
   "id": "7b8ac05d",
   "metadata": {},
   "outputs": [],
   "source": [
    "cf_pd = pd.DataFrame(arr, index = keys, columns = keys)"
   ]
  },
  {
   "cell_type": "code",
   "execution_count": 32,
   "id": "5ba8657b",
   "metadata": {},
   "outputs": [
    {
     "data": {
      "text/plain": [
       "Text(0.5, 1.0, 'Ensemble Confusion Matrix')"
      ]
     },
     "execution_count": 32,
     "metadata": {},
     "output_type": "execute_result"
    },
    {
     "data": {
      "image/png": "[encoded data removed]",
      "text/plain": [
       "<Figure size 720x720 with 2 Axes>"
      ]
     },
     "metadata": {
      "needs_background": "light"
     },
     "output_type": "display_data"
    }
   ],
   "source": [
    "plt.figure(figsize = (10,10))\n",
    "sns.heatmap(cf_pd, annot = True, fmt = 'd', cmap = 'rocket_r', xticklabels = keys, yticklabels = keys)\n",
    "plt.title('Ensemble Confusion Matrix')"
   ]
  },
  {
   "cell_type": "code",
   "execution_count": 33,
   "id": "7a6f6585",
   "metadata": {},
   "outputs": [
    {
     "data": {
      "text/plain": [
       "0.8095833333333333"
      ]
     },
     "execution_count": 33,
     "metadata": {},
     "output_type": "execute_result"
    }
   ],
   "source": [
    "score"
   ]
  }
 ],
 "metadata": {
  "kernelspec": {
   "display_name": "Python 3",
   "language": "python",
   "name": "python3"
  },
  "language_info": {
   "codemirror_mode": {
    "name": "ipython",
    "version": 3
   },
   "file_extension": ".py",
   "mimetype": "text/x-python",
   "name": "python",
   "nbconvert_exporter": "python",
   "pygments_lexer": "ipython3",
   "version": "3.6.9"
  }
 },
 "nbformat": 4,
 "nbformat_minor": 5
}
