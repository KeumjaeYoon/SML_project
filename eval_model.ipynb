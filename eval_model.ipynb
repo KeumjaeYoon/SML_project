{
 "cells": [
  {
   "cell_type": "markdown",
   "id": "b9b3fe44",
   "metadata": {},
   "source": [
    "## Setting"
   ]
  },
  {
   "cell_type": "code",
   "execution_count": null,
   "id": "bbcedc29",
   "metadata": {},
   "outputs": [],
   "source": [
    "import import_ipynb\n",
    "import os, timm, cv2 \n",
    "import numpy as np\n",
    "from glob import glob\n",
    "from tqdm import tqdm\n",
    "import torch\n",
    "import torch.nn as nn\n",
    "import torch.nn.functional as F\n",
    "from torch.utils.data import Dataset, DataLoader\n",
    "from torchvision import transforms\n",
    "import matplotlib.pyplot as plt\n",
    "import pandas as pd\n",
    "import seaborn as sns\n",
    "from sklearn.metrics import confusion_matrix, accuracy_score\n",
    "from itertools import combinations\n",
    "from model_load import *\n",
    "from dataloader import *"
   ]
  },
  {
   "cell_type": "code",
   "execution_count": null,
   "id": "5d0d4b26",
   "metadata": {},
   "outputs": [],
   "source": [
    "device = torch.device('cuda') if torch.cuda.is_available else torch.device('cpu')"
   ]
  },
  {
   "cell_type": "markdown",
   "id": "c9f06b1a",
   "metadata": {},
   "source": [
    "## Validation"
   ]
  },
  {
   "cell_type": "code",
   "execution_count": null,
   "id": "918ab83f",
   "metadata": {},
   "outputs": [],
   "source": [
    "class CustomDataset(Dataset):\n",
    "    def __init__(self, transforms = None):\n",
    "        \n",
    "        self.path = glob('./valid_image/*/*')\n",
    "        keys = list(set([x.split('/')[2] for x in self.path]))\n",
    "        keys.sort()\n",
    "        dictkeys = {key:idx for idx, key in enumerate(keys)}\n",
    "        self.label = [dictkeys[i.split('/')[2]] for i in self.path]       \n",
    "        self.transforms = transforms\n",
    "        \n",
    "    def __getitem__(self, index):\n",
    "        \n",
    "        path = self.path[index]\n",
    "        data = cv2.imread(path, cv2.COLOR_BGR2RGB)\n",
    "        \n",
    "        if self.transforms is not None:\n",
    "            data = self.transforms(data)\n",
    "        \n",
    "        return data, self.label[index]\n",
    "    \n",
    "    def __len__(self):\n",
    "        return len(self.path)"
   ]
  },
  {
   "cell_type": "code",
   "execution_count": null,
   "id": "fa6ba775",
   "metadata": {},
   "outputs": [],
   "source": [
    "size = 224\n",
    "transform = transforms.Compose([\n",
    "    transforms.ToTensor(),\n",
    "    transforms.Resize([size,size]),\n",
    "    transforms.Normalize((0.5, 0.5, 0.5), (0.5, 0.5, 0.5)),\n",
    "])"
   ]
  },
  {
   "cell_type": "code",
   "execution_count": null,
   "id": "ecbe82e1",
   "metadata": {},
   "outputs": [],
   "source": [
    "cifar10_train, cifar10_valid = cifar10(224, 32, workers = 4)\n",
    "test_dataset = CustomDataset(transforms = transform)\n",
    "test_loader = DataLoader(test_dataset, 128, shuffle = False, num_workers=4)"
   ]
  },
  {
   "cell_type": "code",
   "execution_count": null,
   "id": "01cb976a",
   "metadata": {},
   "outputs": [],
   "source": [
    "model = timm.create_model('resnet50', pretrained=False, num_classes=10)\n",
    "checkpoint = torch.load(os.path.join('.', 'baseline.pth'))\n",
    "model.load_state_dict(checkpoint)"
   ]
  },
  {
   "cell_type": "code",
   "execution_count": null,
   "id": "86829583",
   "metadata": {
    "scrolled": true
   },
   "outputs": [],
   "source": [
    "model.eval()\n",
    "model.to(device)\n",
    "model_pred = torch.Tensor()\n",
    "label = torch.Tensor()\n",
    "\n",
    "with torch.no_grad():\n",
    "    for img, ll in test_loader:\n",
    "        pred = model(img.to(device)).cpu()\n",
    "        pred = pred.argmax(dim = 1).cpu()\n",
    "        model_pred = torch.cat([model_pred, pred])\n",
    "        label = torch.cat([label, ll])"
   ]
  },
  {
   "cell_type": "code",
   "execution_count": null,
   "id": "247cb6f4",
   "metadata": {},
   "outputs": [],
   "source": [
    "arr = confusion_matrix(label, model_pred)\n",
    "cf_pd = pd.DataFrame(arr, index = keys, columns = keys)\n",
    "\n",
    "plt.figure(figsize = (10,10))\n",
    "sns.heatmap(cf_pd, annot = True, fmt = 'd', cmap = 'rocket_r', xticklabels = keys, yticklabels = keys)\n",
    "plt.title('Confusion Matrix')"
   ]
  },
  {
   "cell_type": "markdown",
   "id": "7e103ce4",
   "metadata": {},
   "source": [
    "## Ensemble"
   ]
  },
  {
   "cell_type": "code",
   "execution_count": null,
   "id": "4f7f039f",
   "metadata": {},
   "outputs": [],
   "source": [
    "def test(model, test_loader, name):\n",
    "    model.eval()\n",
    "    model.cuda()\n",
    "    aa = torch.Tensor()\n",
    "    bb = torch.Tensor()\n",
    "\n",
    "    with torch.no_grad():\n",
    "        for img, ll in test_loader:\n",
    "            img, ll = img.cuda(), ll\n",
    "            if name == 'seresnext101_32x4d':\n",
    "                pred = model(img)[:,:10].cpu()\n",
    "            else:\n",
    "                pred = model(img).cpu()\n",
    "            pred = F.softmax(pred)\n",
    "            aa = torch.cat([aa, pred])\n",
    "            bb = torch.cat([bb, ll])\n",
    "  \n",
    "    return aa.cpu(), bb.cpu()"
   ]
  },
  {
   "cell_type": "code",
   "execution_count": null,
   "id": "e8a2c9fe",
   "metadata": {},
   "outputs": [],
   "source": [
    "model_name = ['seresnext101_32x4d', 'efficientnet_lite2', 'res2net50_26w_8s',\n",
    "              'efficientnetv2_rw_s', 'efficientnet_b0']"
   ]
  },
  {
   "cell_type": "code",
   "execution_count": null,
   "id": "9de284d3",
   "metadata": {},
   "outputs": [],
   "source": [
    "model_pred = []\n",
    "label = []\n",
    "for i in tqdm(model_name):\n",
    "    if i in ['resnet50', 'efficientnet_b0', 'efficientnetv2_rw_s']:\n",
    "        model = model_load(i, pre = False, num=10)\n",
    "        check = torch.load(os.path.join('./submit', i+'.pth'))['model_state_dict']\n",
    "        model.load_state_dict(check)\n",
    "    elif i in 'seresnext101_32x4d':\n",
    "        model = model_load(i, pre = False, num=192)\n",
    "        model.relu = nn.ReLU(True)\n",
    "        model.fc2 = nn.Linear(192,10)\n",
    "        check = torch.load(os.path.join('./submit', i+'.pth'))\n",
    "        model.load_state_dict(check)\n",
    "    else:\n",
    "        model = model_load(i, pre = False, num=10)\n",
    "        check = torch.load(os.path.join('./submit', i+'.pth'))\n",
    "        model.load_state_dict(check)\n",
    "\n",
    "    model_pred.append(test(model, test_loader,i)[0].tolist())\n",
    "    label.append(test(model, test_loader,i)[1].tolist())\n",
    "\n",
    "pred = torch.Tensor(model_pred)\n",
    "label = torch.Tensor(label)[0]\n",
    "\n",
    "pred = pred.sum(axis=0)\n",
    "final_pred = pred.argmax(dim = 1)\n",
    "\n",
    "print(confusion_matrix(final_pred, label))\n",
    "print(accuracy_score(final_pred, label))"
   ]
  },
  {
   "cell_type": "code",
   "execution_count": null,
   "id": "942e3bbc",
   "metadata": {},
   "outputs": [],
   "source": [
    "arr = confusion_matrix(label, model_pred)\n",
    "cf_pd = pd.DataFrame(arr, index = keys, columns = keys)\n",
    "\n",
    "plt.figure(figsize = (10,10))\n",
    "sns.heatmap(cf_pd, annot = True, fmt = 'd', cmap = 'rocket_r', xticklabels = keys, yticklabels = keys)\n",
    "plt.title('Ensemble Confusion Matrix')"
   ]
  },
  {
   "cell_type": "markdown",
   "id": "2daadcd6",
   "metadata": {},
   "source": [
    "## Find best combinations"
   ]
  },
  {
   "cell_type": "code",
   "execution_count": null,
   "id": "3971c516",
   "metadata": {
    "scrolled": true
   },
   "outputs": [],
   "source": [
    "acc = torch.zeros(6, 20)\n",
    "\n",
    "for j in tqdm(range(len(model_name))):\n",
    "    comb = list(combinations(model_name, j+1))\n",
    "    for idx, k in enumerate(comb):\n",
    "        model_pred = []\n",
    "        label = []\n",
    "        for i in k:\n",
    "            if i in ['resnet50', 'efficientnet_b0', 'efficientnetv2_rw_s']:\n",
    "                model = model_load(i, pre = False, num=10)\n",
    "                check = torch.load(os.path.join('.', i+'.pth'))['model_state_dict']\n",
    "                model.load_state_dict(check)\n",
    "            elif i in 'seresnext101_32x4d':\n",
    "                model = model_load(i, pre = False, num=192)\n",
    "                model.relu = nn.ReLU(True)\n",
    "                model.fc2 = nn.Linear(192,10)\n",
    "                check = torch.load(os.path.join('.', i+'.pth'))\n",
    "                model.load_state_dict(check)\n",
    "            else:\n",
    "                model = model_load(i, pre = False, num=10)\n",
    "                check = torch.load(os.path.join('.', i+'.pth'))\n",
    "                model.load_state_dict(check)\n",
    "\n",
    "            model_pred.append(test(model, test_loader,i)[0].tolist())\n",
    "            label.append(test(model, test_loader,i)[1].tolist())\n",
    "\n",
    "        pred = torch.Tensor(model_pred)\n",
    "        label = torch.Tensor(label)[0]\n",
    "\n",
    "        pred = pred.sum(axis=0)\n",
    "        final_pred = pred.argmax(dim = 1)\n",
    "\n",
    "        print(confusion_matrix(final_pred, label))\n",
    "        print(accuracy_score(final_pred, label))\n",
    "        acc[j][idx] = accuracy_score(final_pred, label)"
   ]
  },
  {
   "cell_type": "code",
   "execution_count": null,
   "id": "8fd675c6",
   "metadata": {},
   "outputs": [],
   "source": [
    "list(combinations(model_name, 5))"
   ]
  },
  {
   "cell_type": "markdown",
   "id": "67371a3f",
   "metadata": {},
   "source": [
    "## How many times has the model been selected"
   ]
  },
  {
   "cell_type": "code",
   "execution_count": null,
   "id": "8f612b9c",
   "metadata": {},
   "outputs": [],
   "source": [
    "dic = {name:0 for name in model_name}\n",
    "for a,b in zip(acc.flatten().topk(10)[1]//acc.size()[1], acc.flatten().topk(10)[1]%acc.size()[1]):\n",
    "    for m in comb[a][b]:\n",
    "        dic[m] += 1"
   ]
  }
 ],
 "metadata": {
  "kernelspec": {
   "display_name": "Python 3",
   "language": "python",
   "name": "python3"
  },
  "language_info": {
   "codemirror_mode": {
    "name": "ipython",
    "version": 3
   },
   "file_extension": ".py",
   "mimetype": "text/x-python",
   "name": "python",
   "nbconvert_exporter": "python",
   "pygments_lexer": "ipython3",
   "version": "3.6.9"
  }
 },
 "nbformat": 4,
 "nbformat_minor": 5
}
